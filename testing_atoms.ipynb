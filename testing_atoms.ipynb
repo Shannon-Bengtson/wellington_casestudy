{
 "cells": [
  {
   "cell_type": "markdown",
   "id": "59ab6f46-5c43-4222-b634-ddb4d80f4387",
   "metadata": {},
   "source": [
    "Credit: https://github.com/lukepolson/youtube_channel/blob/main/Python%20Metaphysics%20Series/vid28.ipynb"
   ]
  },
  {
   "cell_type": "code",
   "execution_count": 1,
   "id": "df52bce9-6c25-437f-8757-c26edc17f645",
   "metadata": {},
   "outputs": [],
   "source": [
    "# def get_delta_pairs(x, ids_pairs):\n",
    "#     return np.diff(np.array([x[ids_pairs[:,0]], x[ids_pairs[:,1]]]).T, axis=1).ravel()\n",
    "\n",
    "# def get_deltad_pairs(r, ids_pairs):\n",
    "#     return np.sqrt(get_delta_pairs(r[0], ids_pairs)**2 + get_delta_pairs(r[1], ids_pairs)**2)\n",
    "\n",
    "# def compute_new_v(v1, v2, r1, r2):\n",
    "#     v1new = v1 - ((v1-v2)*(r1-r2)).sum(axis=0)/np.sum((r1-r2)**2, axis=0) * (r1-r2)\n",
    "#     v2new = v2 - ((v1-v2)*(r1-r2)).sum(axis=0)/np.sum((r2-r1)**2, axis=0) * (r2-r1)\n",
    "#     return v1new, v2new\n",
    "\n",
    "# def motion(r, v, id_pairs, ts, dt, d_cutoff):\n",
    "#     rs = np.zeros((ts, r.shape[0], r.shape[1]))\n",
    "#     vs = np.zeros((ts, v.shape[0], v.shape[1]))\n",
    "#     # Initial State\n",
    "#     rs[0] = r.copy()\n",
    "#     vs[0] = v.copy()\n",
    "#     for i in range(1,ts):\n",
    "#         ic = id_pairs[get_deltad_pairs(r, ids_pairs) < d_cutoff]\n",
    "#         v[:,ic[:,0]], v[:,ic[:,1]] = compute_new_v(v[:,ic[:,0]], v[:,ic[:,1]], r[:,ic[:,0]], r[:,ic[:,1]])\n",
    "        \n",
    "#         v[0,r[0]>1] = -np.abs(v[0,r[0]>1])\n",
    "#         v[0,r[0]<0] = np.abs(v[0,r[0]<0])\n",
    "#         v[1,r[1]>1] = -np.abs(v[1,r[1]>1])\n",
    "#         v[1,r[1]<0] = np.abs(v[1,r[1]<0])\n",
    "        \n",
    "#         r = r + v*dt\n",
    "#         rs[i] = r.copy()\n",
    "#         vs[i] = v.copy()\n",
    "#     return rs, vs"
   ]
  },
  {
   "cell_type": "code",
   "execution_count": 2,
   "id": "98ab057e-7390-40f4-b2ce-f52a89e18098",
   "metadata": {},
   "outputs": [],
   "source": [
    "# radius = 0.03\n",
    "# n_particles = 16\n",
    "# r = np.random.random((2,n_particles))\n",
    "# ixr = r[0]>0.5 #right\n",
    "# ixl = r[0]<=0.5 #left\n",
    "\n",
    "# ids = np.arange(n_particles)\n",
    "# ids_pairs = np.asarray(list(combinations(ids,2)))\n",
    "\n",
    "# v = np.zeros((2,n_particles))\n",
    "# v[0][ixr] = -500\n",
    "# v[0][ixl] = 500\n",
    "\n",
    "# rs, vs = motion(r, v, ids_pairs, ts=1000, dt=0.000008, d_cutoff=2*radius)"
   ]
  },
  {
   "cell_type": "code",
   "execution_count": 3,
   "id": "d9fba76f-16ea-48eb-ab25-9c25c181d700",
   "metadata": {},
   "outputs": [],
   "source": [
    "# v = np.linspace(0, 2000, 1000)\n",
    "# a = 2/500**2\n",
    "# fv = a*v*np.exp(-a*v**2 / 2)\n",
    "\n",
    "# bins = np.linspace(0,1500,50)"
   ]
  },
  {
   "cell_type": "code",
   "execution_count": 4,
   "id": "5f5e96a2-0731-4503-a8a4-6cc7061b08df",
   "metadata": {},
   "outputs": [],
   "source": [
    "# fig, axes = plt.subplots(1, 1, figsize=(10,10))\n",
    "\n",
    "# def animate(i):\n",
    "#     [ax.clear() for ax in axes]\n",
    "#     ax = axes[0]\n",
    "#     xred, yred = rs[i][0][ixr], rs[i][1][ixr]\n",
    "#     xblue, yblue = rs[i][0][ixl],rs[i][1][ixl]\n",
    "#     circles_red = [plt.Circle((xi, yi), radius=4*radius, linewidth=0) for xi,yi in zip(xred,yred)]\n",
    "#     # circles_blue = [plt.Circle((xi, yi), radius=4*radius, linewidth=0) for xi,yi in zip(xblue,yblue)]\n",
    "#     cred = matplotlib.collections.PatchCollection(circles_red, facecolors='red')\n",
    "#     # cblue = matplotlib.collections.PatchCollection(circles_blue, facecolors='blue')\n",
    "#     ax.add_collection(cred)\n",
    "#     # ax.add_collection(cblue)\n",
    "#     ax.set_xlim(0,1)\n",
    "#     ax.set_ylim(0,1)\n",
    "#     ax.tick_params(axis='x', labelsize=15)\n",
    "#     ax.tick_params(axis='y', labelsize=15)\n",
    "#     # ax = axes[1]\n",
    "#     # ax.hist(np.sqrt(np.sum(vs[i]**2, axis=0)), bins=bins, density=True)\n",
    "#     # ax.plot(v,fv)\n",
    "#     # ax.set_xlabel('Velocity [m/s]')\n",
    "#     # ax.set_ylabel('# Particles')\n",
    "#     # ax.set_xlim(0,1500)\n",
    "#     # ax.set_ylim(0,0.006)\n",
    "#     # ax.tick_params(axis='x', labelsize=15)\n",
    "#     # ax.tick_params(axis='y', labelsize=15)\n",
    "#     fig.tight_layout()\n",
    "    \n",
    "    \n",
    "# # ani = animation.FuncAnimation(fig, animate, frames=500, interval=50)\n",
    "# # ani.save('ani.gif',writer='pillow',fps=30,dpi=100)"
   ]
  },
  {
   "cell_type": "code",
   "execution_count": null,
   "id": "fb4f5576-7077-427f-ac8f-645c8b717fea",
   "metadata": {},
   "outputs": [],
   "source": []
  }
 ],
 "metadata": {
  "kernelspec": {
   "display_name": "Python 3 (ipykernel)",
   "language": "python",
   "name": "python3"
  },
  "language_info": {
   "codemirror_mode": {
    "name": "ipython",
    "version": 3
   },
   "file_extension": ".py",
   "mimetype": "text/x-python",
   "name": "python",
   "nbconvert_exporter": "python",
   "pygments_lexer": "ipython3",
   "version": "3.12.2"
  }
 },
 "nbformat": 4,
 "nbformat_minor": 5
}
