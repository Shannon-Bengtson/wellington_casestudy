{
 "cells": [
  {
   "cell_type": "markdown",
   "id": "b69cf935-c7f5-46b0-85c4-edb95399aa57",
   "metadata": {},
   "source": [
    "# File Setup"
   ]
  },
  {
   "cell_type": "code",
   "execution_count": 1,
   "id": "97b0f0bf-7289-4287-88e0-b9db81bb5af6",
   "metadata": {},
   "outputs": [],
   "source": [
    "import numpy as np\n",
    "import pandas as pd\n",
    "import matplotlib.pyplot as plt\n",
    "import xarray as xr\n",
    "import cartopy\n",
    "import datetime\n",
    "import pyproj\n",
    "import rioxarray\n",
    "from scipy.interpolate import griddata\n",
    "import scipy as sp\n",
    "import folium\n",
    "import os\n",
    "import folium\n",
    "from ipywidgets import interact, Dropdown\n",
    "from IPython.display import display, clear_output\n",
    "from itertools import combinations\n",
    "import matplotlib\n",
    "import dask.array as da\n",
    "from concurrent.futures import ThreadPoolExecutor\n",
    "from scipy.sparse import csr_matrix\n",
    "from oceanum.datamesh import Connector\n",
    "import netCDF4 as nc\n",
    "datamesh=Connector(token='3052e2bdd10904ae353ac54ed205df32bfcc20e2')\n",
    "import dask"
   ]
  },
  {
   "cell_type": "code",
   "execution_count": 2,
   "id": "6d7112c0-b3b2-4ecd-886b-3d99053fd6ad",
   "metadata": {},
   "outputs": [],
   "source": [
    "# Define the current and target CRS using EPSG codes\n",
    "current_crs = pyproj.CRS(\"EPSG:2193\")  \n",
    "target_crs = pyproj.CRS(\"EPSG:4326\")\n",
    "\n",
    "transformer = pyproj.Transformer.from_crs(current_crs, target_crs, always_xy=True,allow_ballpark=False)"
   ]
  },
  {
   "cell_type": "markdown",
   "id": "78a0a94d-bfc7-4155-8208-d151684ba70b",
   "metadata": {},
   "source": [
    "# Load DEM"
   ]
  },
  {
   "cell_type": "code",
   "execution_count": 3,
   "id": "0b77d09e-7095-4bd3-80c6-6fca9c70d9b9",
   "metadata": {},
   "outputs": [],
   "source": [
    "xr_dem = rioxarray.open_rasterio('dem_8m_2012_wgs//92L94-92L34.tif') #datamesh.query({'datasource':'linz-wellington_2013-2014-dem_1m-2193',\"geofilter\":{\"type\":\"bbox\",\"geom\":[174.536322,-41.442487,175.124777,-41.049083]}})\n",
    "# xr_dem = xr_dem.band_data"
   ]
  },
  {
   "cell_type": "code",
   "execution_count": 4,
   "id": "edf97ab3-9652-4b9e-9dd1-6d238f765bf6",
   "metadata": {},
   "outputs": [],
   "source": [
    "df_vlms = pd.read_csv('our-changing-coast-insar_rates_searise.csv')"
   ]
  },
  {
   "cell_type": "code",
   "execution_count": 5,
   "id": "1b4e71cc-b698-4d4a-bf90-5ee0ba326177",
   "metadata": {},
   "outputs": [],
   "source": [
    "dem_values = xr_dem.values\n",
    "fill_value = np.min(dem_values)\n",
    "\n",
    "dem_values[dem_values==fill_value] = np.nan\n",
    "xr_dem.values = dem_values"
   ]
  },
  {
   "cell_type": "code",
   "execution_count": 6,
   "id": "a19949e3-93e1-466c-b46e-efe9d60e7b84",
   "metadata": {},
   "outputs": [],
   "source": [
    "# Create a regular grid of coordinates\n",
    "res = 4000# low res to make the initial calcs fast\n",
    "x_regular = np.linspace(xr_dem['x'].min(), xr_dem['x'].max(), res)\n",
    "y_regular = np.linspace(xr_dem['y'].min(), xr_dem['y'].max(), res)\n",
    "\n",
    "# Interpolate data onto regular grid\n",
    "data_interpolated = xr_dem[0,:,:].interp(y=y_regular, x=x_regular)\n",
    "\n",
    "# Now you can use the interpolated data for transformation\n",
    "new_DEM = xr.DataArray(data_interpolated,coords={\"y\":y_regular,\"x\":x_regular},dims=[\"y\",\"x\"])"
   ]
  },
  {
   "cell_type": "code",
   "execution_count": 7,
   "id": "7f964dec-5acf-4f20-87e5-c87a99d77024",
   "metadata": {},
   "outputs": [],
   "source": [
    "new_DEM = new_DEM.chunk(100)"
   ]
  },
  {
   "cell_type": "markdown",
   "id": "346b4c42-e22b-48bd-9772-3292cb27e5f2",
   "metadata": {},
   "source": [
    "# Load Seismic Data"
   ]
  },
  {
   "cell_type": "code",
   "execution_count": 8,
   "id": "c4d35b17-3d2d-4889-8ce1-fb022422e587",
   "metadata": {},
   "outputs": [],
   "source": [
    "array_2pc = np.load('for_DataMesh/for_DataMesh/2perc_disps_sites_c_MDEz_uniform.npy')\n",
    "array_10pc = np.load('for_DataMesh/for_DataMesh/10perc_disps_sites_c_MDEz_uniform.npy')"
   ]
  },
  {
   "cell_type": "code",
   "execution_count": 9,
   "id": "ad4fec2e-89bb-49ff-9d4f-96c0b6158103",
   "metadata": {},
   "outputs": [],
   "source": [
    "df_2pc = pd.DataFrame(array_2pc)\n",
    "df_2pc.columns = ['ID','Lon','Lat','Uplift','Subsidence','absVLM']\n",
    "lon_lats = [transformer.transform(x,y) for x,y in zip(df_2pc.Lon,df_2pc.Lat)]\n",
    "df_2pc['Lon'] = [x[0] for x in lon_lats]\n",
    "df_2pc['Lat'] = [x[1] for x in lon_lats]\n",
    "\n",
    "df_10pc = pd.DataFrame(array_10pc)\n",
    "df_10pc.columns = ['ID','Lon','Lat','Uplift','Subsidence','absVLM']\n",
    "lon_lats = [transformer.transform(x,y) for x,y in zip(df_10pc.Lon,df_10pc.Lat)]\n",
    "df_10pc['Lon'] = [x[0] for x in lon_lats]\n",
    "df_10pc['Lat'] = [x[1] for x in lon_lats]"
   ]
  },
  {
   "cell_type": "code",
   "execution_count": 10,
   "id": "e0274445-3a1b-4bc0-895e-4d23587f3df0",
   "metadata": {},
   "outputs": [],
   "source": [
    "# Put onto DEM grid\n",
    "x = new_DEM.x\n",
    "y = new_DEM.y\n",
    "X, Y = np.meshgrid(x, y)\n",
    "\n",
    "array_2pc = griddata((df_2pc['Lon'], df_2pc['Lat']), df_2pc.absVLM, (X, Y), method='linear')\n",
    "array_10pc = griddata((df_10pc['Lon'], df_10pc['Lat']), df_10pc.absVLM, (X, Y), method='linear')\n",
    "array_none = array_10pc.copy()\n",
    "array_none[:,:] = 0"
   ]
  },
  {
   "cell_type": "code",
   "execution_count": 11,
   "id": "e9ab4c4f-77cf-41eb-b161-8a0ac8af587f",
   "metadata": {},
   "outputs": [],
   "source": [
    "array_2pc = array_2pc.astype(np.float32)\n",
    "array_2pc = csr_matrix(array_2pc)\n",
    "\n",
    "array_10pc = array_10pc.astype(np.float32)\n",
    "array_10pc = csr_matrix(array_10pc)\n",
    "\n",
    "array_none = array_none.astype(np.float32)\n",
    "array_none = csr_matrix(array_none)"
   ]
  },
  {
   "cell_type": "code",
   "execution_count": 12,
   "id": "284ffd9b-7d0a-4f06-8dcb-1d62a344277c",
   "metadata": {},
   "outputs": [],
   "source": [
    "\n",
    "earthquake_scens = {\n",
    "    'None':array_none,\n",
    "    '2pc':array_2pc,\n",
    "    '10pc':array_10pc\n",
    "}"
   ]
  },
  {
   "cell_type": "markdown",
   "id": "7cc2c9db-b4e5-45f6-827f-320a79dbc921",
   "metadata": {},
   "source": [
    "# Storm Surge"
   ]
  },
  {
   "cell_type": "markdown",
   "id": "199fffbf-d071-42e8-858e-ed1b61b6b29b",
   "metadata": {},
   "source": [
    "DataSet: https://data.4tu.nl/articles/_/13392314/1"
   ]
  },
  {
   "cell_type": "code",
   "execution_count": 13,
   "id": "cc463e35-7179-4034-a3c9-fa5500714587",
   "metadata": {},
   "outputs": [],
   "source": [
    "xr_storm_surge = xr.open_dataset('COAST-RP.nc')\n",
    "xr_100rp = xr_storm_surge['storm_tide_rp_0100']"
   ]
  },
  {
   "cell_type": "code",
   "execution_count": 14,
   "id": "f8fa4a8e-ce33-476e-a82f-86c2bd948c4c",
   "metadata": {},
   "outputs": [],
   "source": [
    "well_y = -41.274678\n",
    "well_x = 174.854143"
   ]
  },
  {
   "cell_type": "code",
   "execution_count": 15,
   "id": "e1d20b89-62ff-4728-8cc6-38227a2692f7",
   "metadata": {},
   "outputs": [],
   "source": [
    "df_storm_surge = xr_storm_surge.to_dataframe()"
   ]
  },
  {
   "cell_type": "code",
   "execution_count": 16,
   "id": "239ddd27-9de5-4fd9-8794-3c1ef9c6aae9",
   "metadata": {},
   "outputs": [],
   "source": [
    "df_storm_surge.loc[:,'euclidean'] = (df_storm_surge.station_x_coordinate-well_x)**2+(df_storm_surge.station_y_coordinate-well_y)**2\n",
    "df_storm_surge = df_storm_surge.sort_values('euclidean').reset_index(drop=True)\n",
    "storm_tide_rps_dict = df_storm_surge.loc[0,[x for x in df_storm_surge.columns if 'storm_tide_rp' in x]].to_dict()"
   ]
  },
  {
   "cell_type": "code",
   "execution_count": 17,
   "id": "9f2188a6-4ab6-42f1-ab50-9810a8a1c540",
   "metadata": {},
   "outputs": [
    {
     "data": {
      "text/html": [
       "<div>\n",
       "<style scoped>\n",
       "    .dataframe tbody tr th:only-of-type {\n",
       "        vertical-align: middle;\n",
       "    }\n",
       "\n",
       "    .dataframe tbody tr th {\n",
       "        vertical-align: top;\n",
       "    }\n",
       "\n",
       "    .dataframe thead th {\n",
       "        text-align: right;\n",
       "    }\n",
       "</style>\n",
       "<table border=\"1\" class=\"dataframe\">\n",
       "  <thead>\n",
       "    <tr style=\"text-align: right;\">\n",
       "      <th></th>\n",
       "      <th>station_id</th>\n",
       "      <th>storm_tide_rp_0001</th>\n",
       "      <th>storm_tide_rp_0002</th>\n",
       "      <th>storm_tide_rp_0005</th>\n",
       "      <th>storm_tide_rp_0010</th>\n",
       "      <th>storm_tide_rp_0025</th>\n",
       "      <th>storm_tide_rp_0050</th>\n",
       "      <th>storm_tide_rp_0100</th>\n",
       "      <th>storm_tide_rp_0250</th>\n",
       "      <th>storm_tide_rp_0500</th>\n",
       "      <th>storm_tide_rp_1000</th>\n",
       "      <th>station_x_coordinate</th>\n",
       "      <th>station_y_coordinate</th>\n",
       "      <th>euclidean</th>\n",
       "    </tr>\n",
       "  </thead>\n",
       "  <tbody>\n",
       "    <tr>\n",
       "      <th>0</th>\n",
       "      <td>islands_27003</td>\n",
       "      <td>0.536</td>\n",
       "      <td>0.564</td>\n",
       "      <td>0.598</td>\n",
       "      <td>0.620</td>\n",
       "      <td>0.648</td>\n",
       "      <td>0.668</td>\n",
       "      <td>0.687</td>\n",
       "      <td>0.704</td>\n",
       "      <td>0.712</td>\n",
       "      <td>0.722</td>\n",
       "      <td>174.858002</td>\n",
       "      <td>-41.264999</td>\n",
       "      <td>0.000109</td>\n",
       "    </tr>\n",
       "    <tr>\n",
       "      <th>1</th>\n",
       "      <td>id_coast_glob_08580</td>\n",
       "      <td>0.534</td>\n",
       "      <td>0.562</td>\n",
       "      <td>0.596</td>\n",
       "      <td>0.619</td>\n",
       "      <td>0.646</td>\n",
       "      <td>0.667</td>\n",
       "      <td>0.686</td>\n",
       "      <td>0.703</td>\n",
       "      <td>0.712</td>\n",
       "      <td>0.720</td>\n",
       "      <td>174.800003</td>\n",
       "      <td>-41.293999</td>\n",
       "      <td>0.003304</td>\n",
       "    </tr>\n",
       "    <tr>\n",
       "      <th>2</th>\n",
       "      <td>id_coast_glob_08581</td>\n",
       "      <td>1.069</td>\n",
       "      <td>1.111</td>\n",
       "      <td>1.160</td>\n",
       "      <td>1.192</td>\n",
       "      <td>1.234</td>\n",
       "      <td>1.264</td>\n",
       "      <td>1.294</td>\n",
       "      <td>1.329</td>\n",
       "      <td>1.354</td>\n",
       "      <td>1.378</td>\n",
       "      <td>174.770996</td>\n",
       "      <td>-41.146999</td>\n",
       "      <td>0.023215</td>\n",
       "    </tr>\n",
       "    <tr>\n",
       "      <th>3</th>\n",
       "      <td>islands_26834</td>\n",
       "      <td>1.134</td>\n",
       "      <td>1.178</td>\n",
       "      <td>1.228</td>\n",
       "      <td>1.262</td>\n",
       "      <td>1.302</td>\n",
       "      <td>1.333</td>\n",
       "      <td>1.365</td>\n",
       "      <td>1.403</td>\n",
       "      <td>1.431</td>\n",
       "      <td>1.454</td>\n",
       "      <td>174.770996</td>\n",
       "      <td>-41.089001</td>\n",
       "      <td>0.041389</td>\n",
       "    </tr>\n",
       "    <tr>\n",
       "      <th>4</th>\n",
       "      <td>id_coast_glob_08579</td>\n",
       "      <td>0.996</td>\n",
       "      <td>1.027</td>\n",
       "      <td>1.064</td>\n",
       "      <td>1.089</td>\n",
       "      <td>1.119</td>\n",
       "      <td>1.141</td>\n",
       "      <td>1.159</td>\n",
       "      <td>1.179</td>\n",
       "      <td>1.193</td>\n",
       "      <td>1.207</td>\n",
       "      <td>175.181000</td>\n",
       "      <td>-41.439999</td>\n",
       "      <td>0.134168</td>\n",
       "    </tr>\n",
       "    <tr>\n",
       "      <th>...</th>\n",
       "      <td>...</td>\n",
       "      <td>...</td>\n",
       "      <td>...</td>\n",
       "      <td>...</td>\n",
       "      <td>...</td>\n",
       "      <td>...</td>\n",
       "      <td>...</td>\n",
       "      <td>...</td>\n",
       "      <td>...</td>\n",
       "      <td>...</td>\n",
       "      <td>...</td>\n",
       "      <td>...</td>\n",
       "      <td>...</td>\n",
       "      <td>...</td>\n",
       "    </tr>\n",
       "    <tr>\n",
       "      <th>23221</th>\n",
       "      <td>id_coast_glob_08194</td>\n",
       "      <td>2.208</td>\n",
       "      <td>2.342</td>\n",
       "      <td>2.528</td>\n",
       "      <td>2.668</td>\n",
       "      <td>2.840</td>\n",
       "      <td>2.974</td>\n",
       "      <td>3.110</td>\n",
       "      <td>3.295</td>\n",
       "      <td>3.397</td>\n",
       "      <td>3.465</td>\n",
       "      <td>-179.735992</td>\n",
       "      <td>66.108002</td>\n",
       "      <td>137265.218750</td>\n",
       "    </tr>\n",
       "    <tr>\n",
       "      <th>23222</th>\n",
       "      <td>id_coast_glob_08197</td>\n",
       "      <td>0.733</td>\n",
       "      <td>0.794</td>\n",
       "      <td>0.875</td>\n",
       "      <td>0.931</td>\n",
       "      <td>0.997</td>\n",
       "      <td>1.036</td>\n",
       "      <td>1.068</td>\n",
       "      <td>1.109</td>\n",
       "      <td>1.129</td>\n",
       "      <td>1.146</td>\n",
       "      <td>-178.212997</td>\n",
       "      <td>71.528000</td>\n",
       "      <td>137380.843750</td>\n",
       "    </tr>\n",
       "    <tr>\n",
       "      <th>23223</th>\n",
       "      <td>id_coast_glob_08198</td>\n",
       "      <td>0.846</td>\n",
       "      <td>0.903</td>\n",
       "      <td>0.978</td>\n",
       "      <td>1.027</td>\n",
       "      <td>1.082</td>\n",
       "      <td>1.123</td>\n",
       "      <td>1.161</td>\n",
       "      <td>1.200</td>\n",
       "      <td>1.217</td>\n",
       "      <td>1.233</td>\n",
       "      <td>-178.856995</td>\n",
       "      <td>70.913002</td>\n",
       "      <td>137697.625000</td>\n",
       "    </tr>\n",
       "    <tr>\n",
       "      <th>23224</th>\n",
       "      <td>id_coast_glob_08195</td>\n",
       "      <td>1.096</td>\n",
       "      <td>1.207</td>\n",
       "      <td>1.329</td>\n",
       "      <td>1.400</td>\n",
       "      <td>1.479</td>\n",
       "      <td>1.540</td>\n",
       "      <td>1.618</td>\n",
       "      <td>1.679</td>\n",
       "      <td>1.706</td>\n",
       "      <td>1.724</td>\n",
       "      <td>-179.854004</td>\n",
       "      <td>68.920998</td>\n",
       "      <td>137960.953125</td>\n",
       "    </tr>\n",
       "    <tr>\n",
       "      <th>23225</th>\n",
       "      <td>id_coast_glob_08199</td>\n",
       "      <td>0.667</td>\n",
       "      <td>0.721</td>\n",
       "      <td>0.797</td>\n",
       "      <td>0.842</td>\n",
       "      <td>0.903</td>\n",
       "      <td>0.941</td>\n",
       "      <td>0.974</td>\n",
       "      <td>1.019</td>\n",
       "      <td>1.039</td>\n",
       "      <td>1.049</td>\n",
       "      <td>-179.209000</td>\n",
       "      <td>71.615997</td>\n",
       "      <td>138105.015625</td>\n",
       "    </tr>\n",
       "  </tbody>\n",
       "</table>\n",
       "<p>23226 rows × 14 columns</p>\n",
       "</div>"
      ],
      "text/plain": [
       "                station_id  storm_tide_rp_0001  storm_tide_rp_0002  \\\n",
       "0            islands_27003               0.536               0.564   \n",
       "1      id_coast_glob_08580               0.534               0.562   \n",
       "2      id_coast_glob_08581               1.069               1.111   \n",
       "3            islands_26834               1.134               1.178   \n",
       "4      id_coast_glob_08579               0.996               1.027   \n",
       "...                    ...                 ...                 ...   \n",
       "23221  id_coast_glob_08194               2.208               2.342   \n",
       "23222  id_coast_glob_08197               0.733               0.794   \n",
       "23223  id_coast_glob_08198               0.846               0.903   \n",
       "23224  id_coast_glob_08195               1.096               1.207   \n",
       "23225  id_coast_glob_08199               0.667               0.721   \n",
       "\n",
       "       storm_tide_rp_0005  storm_tide_rp_0010  storm_tide_rp_0025  \\\n",
       "0                   0.598               0.620               0.648   \n",
       "1                   0.596               0.619               0.646   \n",
       "2                   1.160               1.192               1.234   \n",
       "3                   1.228               1.262               1.302   \n",
       "4                   1.064               1.089               1.119   \n",
       "...                   ...                 ...                 ...   \n",
       "23221               2.528               2.668               2.840   \n",
       "23222               0.875               0.931               0.997   \n",
       "23223               0.978               1.027               1.082   \n",
       "23224               1.329               1.400               1.479   \n",
       "23225               0.797               0.842               0.903   \n",
       "\n",
       "       storm_tide_rp_0050  storm_tide_rp_0100  storm_tide_rp_0250  \\\n",
       "0                   0.668               0.687               0.704   \n",
       "1                   0.667               0.686               0.703   \n",
       "2                   1.264               1.294               1.329   \n",
       "3                   1.333               1.365               1.403   \n",
       "4                   1.141               1.159               1.179   \n",
       "...                   ...                 ...                 ...   \n",
       "23221               2.974               3.110               3.295   \n",
       "23222               1.036               1.068               1.109   \n",
       "23223               1.123               1.161               1.200   \n",
       "23224               1.540               1.618               1.679   \n",
       "23225               0.941               0.974               1.019   \n",
       "\n",
       "       storm_tide_rp_0500  storm_tide_rp_1000  station_x_coordinate  \\\n",
       "0                   0.712               0.722            174.858002   \n",
       "1                   0.712               0.720            174.800003   \n",
       "2                   1.354               1.378            174.770996   \n",
       "3                   1.431               1.454            174.770996   \n",
       "4                   1.193               1.207            175.181000   \n",
       "...                   ...                 ...                   ...   \n",
       "23221               3.397               3.465           -179.735992   \n",
       "23222               1.129               1.146           -178.212997   \n",
       "23223               1.217               1.233           -178.856995   \n",
       "23224               1.706               1.724           -179.854004   \n",
       "23225               1.039               1.049           -179.209000   \n",
       "\n",
       "       station_y_coordinate      euclidean  \n",
       "0                -41.264999       0.000109  \n",
       "1                -41.293999       0.003304  \n",
       "2                -41.146999       0.023215  \n",
       "3                -41.089001       0.041389  \n",
       "4                -41.439999       0.134168  \n",
       "...                     ...            ...  \n",
       "23221             66.108002  137265.218750  \n",
       "23222             71.528000  137380.843750  \n",
       "23223             70.913002  137697.625000  \n",
       "23224             68.920998  137960.953125  \n",
       "23225             71.615997  138105.015625  \n",
       "\n",
       "[23226 rows x 14 columns]"
      ]
     },
     "execution_count": 17,
     "metadata": {},
     "output_type": "execute_result"
    }
   ],
   "source": [
    "df_storm_surge"
   ]
  },
  {
   "cell_type": "code",
   "execution_count": 18,
   "id": "f0d71bb0-b808-4b29-ad80-821410a00704",
   "metadata": {},
   "outputs": [],
   "source": [
    "storm_tide_rps_dict = {k.split('_')[-1]:v for k,v in storm_tide_rps_dict.items()}"
   ]
  },
  {
   "cell_type": "code",
   "execution_count": 19,
   "id": "bdfb5015-b603-47d6-b4b6-9387b961b882",
   "metadata": {},
   "outputs": [
    {
     "data": {
      "text/plain": [
       "{'0001': 0.5360000133514404,\n",
       " '0002': 0.5640000104904175,\n",
       " '0005': 0.5979999899864197,\n",
       " '0010': 0.6200000047683716,\n",
       " '0025': 0.6480000019073486,\n",
       " '0050': 0.6679999828338623,\n",
       " '0100': 0.6869999766349792,\n",
       " '0250': 0.7039999961853027,\n",
       " '0500': 0.7120000123977661,\n",
       " '1000': 0.722000002861023}"
      ]
     },
     "execution_count": 19,
     "metadata": {},
     "output_type": "execute_result"
    }
   ],
   "source": [
    "storm_tide_rps_dict"
   ]
  },
  {
   "cell_type": "markdown",
   "id": "63f2634e-35d7-4461-98ca-88de75d5c9dd",
   "metadata": {},
   "source": [
    "# Load VLMs"
   ]
  },
  {
   "cell_type": "code",
   "execution_count": 20,
   "id": "e57bae10-2f3e-45e5-9000-6fe3ff53eace",
   "metadata": {},
   "outputs": [],
   "source": [
    "df_vlms = pd.read_csv('Welly_VLM_2018-2023_100m.txt',delimiter='\\t')\n",
    "df_vlms = df_vlms.astype(np.float32)"
   ]
  },
  {
   "cell_type": "code",
   "execution_count": 21,
   "id": "0652a5d9-aac2-43c9-a7b3-2199d495ac87",
   "metadata": {},
   "outputs": [],
   "source": [
    "df_vlms = df_vlms.rename(columns={'  0.000000':'lon','  0.000000.1':'lat'})"
   ]
  },
  {
   "cell_type": "code",
   "execution_count": 22,
   "id": "1d9f49a7-fc1c-464c-b52c-d6bf11109e9c",
   "metadata": {},
   "outputs": [],
   "source": [
    "df_vlms.set_index(['lat','lon'],inplace=True)\n",
    "df_vlms.columns = df_vlms.columns.astype(float)\n",
    "df_vlms = df_vlms.reset_index()"
   ]
  },
  {
   "cell_type": "code",
   "execution_count": 23,
   "id": "5e16f4a1-68ae-429b-a31e-ad90e3a2c6a0",
   "metadata": {},
   "outputs": [],
   "source": [
    "cols = [x for x in df_vlms.columns if x not in ['lon','lat']]"
   ]
  },
  {
   "cell_type": "code",
   "execution_count": 24,
   "id": "7331fa00-e5b7-4730-8c32-4338f588e787",
   "metadata": {},
   "outputs": [],
   "source": [
    "# Precompute grid once\n",
    "x = new_DEM.x.astype(np.float32)\n",
    "y = new_DEM.y.astype(np.float32)\n",
    "\n",
    "X, Y = np.meshgrid(x, y)\n",
    "\n",
    "# Function to perform interpolation for a given year\n",
    "def interpolate_year(year):\n",
    "    Z_year = griddata((df_vlms['lon'].astype(np.float32), df_vlms['lat'].astype(np.float32)), df_vlms[year].astype(np.float32), (X, Y), method='linear')\n",
    "    return np.nan_to_num(Z_year, nan=0).astype(np.float32)\n",
    "\n",
    "# Function to process a chunk of years\n",
    "def process_chunk(chunk):\n",
    "    with ThreadPoolExecutor() as executor:\n",
    "        return list(executor.map(interpolate_year, chunk))\n",
    "\n",
    "# Determine chunk size and number of chunks\n",
    "chunk_size = 10  # Adjust based on available memory\n",
    "chunks = [cols[i:i + chunk_size] for i in range(0, len(cols), chunk_size)]\n",
    "\n",
    "# Initialize list to collect results\n",
    "all_chunks_results = []\n",
    "\n",
    "# Process each chunk\n",
    "for chunk in chunks:\n",
    "    chunk_results = process_chunk(chunk)\n",
    "    all_chunks_results.append(np.stack(chunk_results, axis=-1))\n",
    "\n",
    "# Concatenate all chunks along the time dimension\n",
    "duplicated_arr = np.concatenate(all_chunks_results, axis=-1)\n",
    "\n",
    "# Create DataArray\n",
    "duplicated_arr = xr.DataArray(duplicated_arr, coords={\"lon\": np.array(x), \"lat\": np.array(y), \"years\": cols}, dims=['lon', 'lat', 'years'])\n",
    "\n",
    "# Interpolate NaN values\n",
    "duplicated_arr = (duplicated_arr.chunk(dict(lat=-1)).interpolate_na(dim='lat', method='linear') + duplicated_arr.chunk(dict(lon=-1)).interpolate_na(dim='lon', method='linear')) / 2\n",
    "\n",
    "# rechunk\n",
    "duplicated_arr = duplicated_arr.chunk(100)"
   ]
  },
  {
   "cell_type": "markdown",
   "id": "e8cbe595-f3b0-4496-b448-c3afed8a9649",
   "metadata": {},
   "source": [
    "# Load SLR Data"
   ]
  },
  {
   "cell_type": "code",
   "execution_count": 25,
   "id": "c9c9a41d-2b29-4c58-b807-f88e8cad4694",
   "metadata": {},
   "outputs": [],
   "source": [
    "xr_slr = sp.io.loadmat('Ian_relabelled_sites/total_volc_noVLMssp585_medium_confidence_values.mat')\n",
    "\n",
    "lats = {x:y for x,y in zip(xr_slr['locations'].squeeze(),xr_slr['lat'].squeeze())}\n",
    "lons = {x:y for x,y in zip(xr_slr['locations'].squeeze(),xr_slr['lon'].squeeze())}\n",
    "\n",
    "x = new_DEM.x\n",
    "y = new_DEM.y\n",
    "\n",
    "years = np.unique(xr_slr['years'])\n",
    "quantiles = [0.17,0.5,0.83]\n",
    "\n",
    "X, Y = np.meshgrid(x, y)\n",
    "\n",
    "example_year = np.min(years)\n",
    "example_quantile = np.min(quantiles)"
   ]
  },
  {
   "cell_type": "code",
   "execution_count": 26,
   "id": "6f7c8535-249a-4100-873d-2a3fb6c763e2",
   "metadata": {},
   "outputs": [],
   "source": [
    "file_names = os.listdir(\"Ian_relabelled_sites/\")\n",
    "file_names = [x for x in file_names if ('total' in x)&('medium' in x)&('_noVLM' in x)]"
   ]
  },
  {
   "cell_type": "code",
   "execution_count": null,
   "id": "68eac35e-9f10-4dff-80b4-374e0be17bc0",
   "metadata": {},
   "outputs": [
    {
     "name": "stdout",
     "output_type": "stream",
     "text": [
      "testing\n",
      "testing\n",
      "testing\n",
      "testing\n",
      "testing\n"
     ]
    }
   ],
   "source": [
    "# Function to process each file\n",
    "def process_file(k, file):\n",
    "    print('testing')\n",
    "    xr_slr = sp.io.loadmat(f'Ian_relabelled_sites/{file}')\n",
    "    \n",
    "    xr_slr = xr.DataArray(xr_slr['sea_level_change'],\n",
    "                          coords={'locations': xr_slr['locations'].squeeze(),\n",
    "                                  'years': xr_slr['years'].squeeze(),\n",
    "                                  'quantiles': xr_slr['quantiles'].squeeze()},\n",
    "                          dims=['locations', 'years', 'quantiles'])\n",
    "    \n",
    "    df_slr = xr_slr.sel(quantiles=quantiles).to_dataframe('slr')\n",
    "    \n",
    "    del xr_slr\n",
    "    \n",
    "    df_slr['Lat'] = [lats[x] for x in df_slr.reset_index()['locations']]\n",
    "    df_slr['Lon'] = [lons[x] for x in df_slr.reset_index()['locations']]\n",
    "    \n",
    "    # Focus on the wellington region\n",
    "    df_slr = df_slr[(df_slr.Lon > np.min(new_DEM.x.values)) & \n",
    "                    (df_slr.Lat > np.min(new_DEM.y.values)) & \n",
    "                    (df_slr.Lon < np.max(new_DEM.x.values)) & \n",
    "                    (df_slr.Lat < np.max(new_DEM.y.values))]\n",
    "    \n",
    "    df_slr = df_slr.reset_index().drop('locations', axis=1)\n",
    "\n",
    "    slr_array = da.zeros((len(x), len(y), len(years), len(quantiles), len(file_names)), dtype=np.float32, chunks=10)\n",
    "    \n",
    "    for i, year in enumerate(years):\n",
    "        for j, quantile in enumerate(quantiles):\n",
    "            df_slr_inst = df_slr[(df_slr.years == year) & (df_slr.quantiles == quantile)]\n",
    "            if not df_slr_inst.empty:\n",
    "                grid = griddata((df_slr_inst['Lon'].astype(np.float32), df_slr_inst['Lat'].astype(np.float32)), \n",
    "                                                              df_slr_inst['slr'].astype(np.float32), (X, Y), \n",
    "                                                              method='linear').astype(np.float32)\n",
    "                                                    # da.from_array( chunks=1000)\n",
    "                slr_array[:,:,i,j,k] = grid\n",
    "                \n",
    "            print(i,j)\n",
    "\n",
    "    return(k)\n",
    "\n",
    "# Use ThreadPoolExecutor to process files in parallel\n",
    "with ThreadPoolExecutor() as executor:\n",
    "    results = list(executor.map(process_file, range(len(file_names)), file_names))\n",
    "\n",
    "# Rechunk\n",
    "slr_array = slr_array.rechunk(100)\n",
    "\n",
    "# Finalize the Dask array\n",
    "# slr_array = slr_array.compute()\n",
    "\n",
    "# Create an xarray DataArray\n",
    "xr_slr = xr.DataArray(slr_array, coords={\"Lon\": np.array(x), \"Lat\": np.array(y), \"years\": years, \"quantiles\": quantiles, \"scenarios\": file_names},\n",
    "                      dims=['Lon', 'Lat', 'years', 'quantiles', 'scenarios'])\n",
    "\n",
    "# Fill missing values\n",
    "filled_x = xr_slr.ffill('Lon').bfill('Lat')\n",
    "filled_y = xr_slr.ffill('Lat').bfill('Lon')\n",
    "xr_slr_filled = (filled_x + filled_y) / 2\n"
   ]
  },
  {
   "cell_type": "code",
   "execution_count": null,
   "id": "0ce61373-dad6-4eb9-a73d-74aad59493c3",
   "metadata": {},
   "outputs": [],
   "source": [
    "asdf"
   ]
  },
  {
   "cell_type": "code",
   "execution_count": null,
   "id": "75e3ef5d-4e0d-4eaa-ba3b-b7a535c9a4cb",
   "metadata": {},
   "outputs": [],
   "source": [
    "# k = 0\n",
    "# for file in file_names:\n",
    "#     xr_slr = sp.io.loadmat(f'../../Ian_relabelled_sites/{file}')\n",
    "    \n",
    "#     xr_slr = xr.DataArray(xr_slr['sea_level_change'],\n",
    "#                           coords={'locations':xr_slr['locations'].squeeze(),'years':xr_slr['years'].squeeze(),'quantiles':xr_slr['quantiles'].squeeze()},\n",
    "#                          dims=['locations','years','quantiles'])\n",
    "    \n",
    "#     df_slr = xr_slr.sel(quantiles=quantiles).to_dataframe('slr')\n",
    "    \n",
    "#     df_slr['Lat'] = [lats[x] for x in df_slr.reset_index()['locations']]\n",
    "#     df_slr['Lon'] = [lons[x] for x in df_slr.reset_index()['locations']]\n",
    "    \n",
    "#     # Focus on the wellington region\n",
    "#     df_slr = df_slr[(df_slr.Lon>np.min(new_DEM.x.values))&(df_slr.Lat>np.min(new_DEM.y.values))&(df_slr.Lon<np.max(new_DEM.x.values))&(df_slr.Lat<np.max(new_DEM.y.values))]\n",
    "    \n",
    "#     df_slr = df_slr.reset_index().drop('locations',axis=1)\n",
    "    \n",
    "#     i = 0\n",
    "#     for year in years:\n",
    "#         j = 0\n",
    "#         for quantile in quantiles:\n",
    "#             df_slr_inst = df_slr[(df_slr.years==year)&(df_slr.quantiles==quantile)]\n",
    "#             slr_array[:,:,i,j,k] = griddata((df_slr_inst['Lon'], df_slr_inst['Lat']), df_slr_inst['slr'], (X, Y), method='linear')\n",
    "#             j+=1\n",
    "#         i+=1\n",
    "#     k+=1\n",
    "\n",
    "# xr_slr = xr.DataArray(slr_array,coords={\"Lon\":np.array(x),\"Lat\":np.array(y),\"years\":years,\"quantiles\":quantiles,\"scenarios\":file_names},dims=['Lon','Lat','years','quantiles','scenarios'])\n",
    "\n",
    "# filled_x = xr_slr.ffill('Lon').bfill('Lat')\n",
    "# filled_y = xr_slr.ffill('Lat').bfill('Lon')\n",
    "# xr_slr_filled = (filled_x+filled_y)/2\n",
    "    "
   ]
  },
  {
   "cell_type": "markdown",
   "id": "3d640391-c29e-4e39-817e-f13102a3613f",
   "metadata": {},
   "source": [
    "# Adding SLR and VLM together Data"
   ]
  },
  {
   "cell_type": "code",
   "execution_count": null,
   "id": "9f62cce5-65ee-4a3a-ae6e-be423c309073",
   "metadata": {},
   "outputs": [],
   "source": [
    "# Find a mean of the rates and project forward\n",
    "xr_vlm_mean = duplicated_arr.mean(dim='years',skipna=True)\n",
    "xr_vlm_mean = xr_vlm_mean.expand_dims({'years':xr_slr.years.values})\n",
    "\n",
    "year_count = (xr_vlm_mean.years-np.min(xr_vlm_mean.years)) #should really start when the DEM was made for\n",
    "xr_vlm_forecast = xr_vlm_mean*np.array(year_count)[:,None,None]\n",
    "xr_vlm_forecast = xr_vlm_forecast.transpose('lon','lat','years')\n",
    "xr_slr_vlm_adjusted = xr_slr_filled-np.array(xr_vlm_forecast)[:,:,:,None,None]"
   ]
  },
  {
   "cell_type": "markdown",
   "id": "75234727-7c9c-4b43-af90-cf1b3987fe83",
   "metadata": {},
   "source": [
    "# Flooding the DEM"
   ]
  },
  {
   "cell_type": "code",
   "execution_count": null,
   "id": "a284ecde-df67-4cc5-b296-b790d981f366",
   "metadata": {},
   "outputs": [],
   "source": [
    "new_DEM_mask = new_DEM.copy()\n",
    "new_DEM_mask = new_DEM_mask/new_DEM_mask\n",
    "new_DEM_mask = new_DEM_mask.fillna(123456789)#where(new_DEM_mask!=float('NaN'),123456789)\n",
    "new_DEM_mask = new_DEM_mask.where(new_DEM_mask!=1,np.nan)\n",
    "new_DEM_mask = new_DEM_mask.where(new_DEM_mask!=123456789,1)"
   ]
  },
  {
   "cell_type": "code",
   "execution_count": null,
   "id": "c916f810-2486-4dda-9e45-3a2550048984",
   "metadata": {},
   "outputs": [],
   "source": [
    "(np.empty((len(list(storm_tide_rps_dict.keys())),\n",
    "         len(list(earthquake_scens.keys())),\n",
    "         len(years),\n",
    "         len(file_names),\n",
    "         len(x),\n",
    "         len(y))).astype(np.float32)).shape"
   ]
  },
  {
   "cell_type": "code",
   "execution_count": null,
   "id": "9e79cb7b-a931-4bb6-aa30-3004a84b38e4",
   "metadata": {},
   "outputs": [],
   "source": [
    "masked_xarray = xr.DataArray(np.empty((len(list(storm_tide_rps_dict.keys())),\n",
    "         len(list(earthquake_scens.keys())),\n",
    "         len(years),\n",
    "         len(file_names),\n",
    "         len(x),\n",
    "         len(y))).astype(np.float32),dims=['stormsurge','earthquake','years','file','lon','lat'],\n",
    "                            coords=[list(storm_tide_rps_dict.keys()),list(earthquake_scens.keys()),years,file_names,x,y])\n",
    "\n",
    "flooded_xarray = xr.DataArray(np.empty((len(list(storm_tide_rps_dict.keys())),\n",
    "         len(list(earthquake_scens.keys())),\n",
    "         len(years),\n",
    "         len(file_names),\n",
    "         len(x),\n",
    "         len(y))).astype(np.float32),dims=['stormsurge','earthquake','years','file','lon','lat'],\n",
    "                            coords=[list(storm_tide_rps_dict.keys()),list(earthquake_scens.keys()),years,file_names,x,y])"
   ]
  },
  {
   "cell_type": "code",
   "execution_count": null,
   "id": "b24636d0-bf40-44c7-af40-47cba83cb101",
   "metadata": {},
   "outputs": [],
   "source": [
    "masked_array_dict = {}\n",
    "flooded_dict = {}\n",
    "\n",
    "for storm_rps,storm_value in storm_tide_rps_dict.items():\n",
    "    for e_scen,e_array in earthquake_scens.items():\n",
    "        for year in years:\n",
    "            for scenario in file_names:\n",
    "                xr_slr_vlm_adjusted_year = xr_slr_vlm_adjusted.sel(years=year,scenarios=scenario)\n",
    "                \n",
    "                new_DEM_flooded_low = new_DEM-np.array(xr_slr_vlm_adjusted_year.sel(quantiles=np.min(quantiles)))/1000-e_array-float(storm_value)\n",
    "                new_DEM_flooded_low = new_DEM_flooded_low\n",
    "                flooded_low = new_DEM_flooded_low.where(new_DEM_flooded_low<0,np.nan)*0+1\n",
    "                \n",
    "                new_DEM_flooded_mid = new_DEM-np.array(xr_slr_vlm_adjusted_year.sel(quantiles=0.5))/1000-e_array-float(storm_value)\n",
    "                new_DEM_flooded_mid = new_DEM_flooded_mid\n",
    "                flooded_mid = new_DEM_flooded_mid.where(new_DEM_flooded_mid<0,np.nan)*0+1\n",
    "                \n",
    "                new_DEM_flooded_high = new_DEM-np.array(xr_slr_vlm_adjusted_year.sel(quantiles=np.max(quantiles)))/1000-e_array-float(storm_value)\n",
    "                new_DEM_flooded_high = new_DEM_flooded_high\n",
    "                flooded_high = new_DEM_flooded_high.where(new_DEM_flooded_high<0,np.nan)*0+1\n",
    "                \n",
    "                flooded = flooded_low.fillna(0)+flooded_mid.fillna(0)+flooded_high.fillna(0)\n",
    "                flooded = flooded.where(flooded>0,np.nan)\n",
    "                \n",
    "                masked_flooded = np.ma.masked_invalid(flooded)\n",
    "                masked_flooded = (np.max(masked_flooded)-masked_flooded)/(np.max(masked_flooded)-np.min(masked_flooded))\n",
    "                masked_flooded = masked_flooded[::-1,:]\n",
    "        \n",
    "                masked_array_dict.update({\n",
    "                    (year,scenario,e_scen,storm_rps):masked_flooded\n",
    "                })\n",
    "        \n",
    "                flooded_dict.update({\n",
    "                    (year,scenario,e_scen,storm_rps):flooded\n",
    "                })\n",
    "\n",
    "                masked_xarray.loc[{'stormsurge': storm_rps, 'earthquake': e_scen, 'years': year, 'file': scenario}] = masked_flooded\n",
    "                flooded_xarray.loc[{'stormsurge': storm_rps, 'earthquake': e_scen, 'years': year, 'file': scenario}] = flooded\n",
    "\n",
    "     "
   ]
  },
  {
   "cell_type": "code",
   "execution_count": null,
   "id": "e0cb809a-53e5-4046-a0cc-07de0c20ccb0",
   "metadata": {},
   "outputs": [],
   "source": [
    "xr_slr_vlm_adjusted_year = xr_slr_vlm_adjusted.sel(years=year,scenarios=scenario)\n",
    "\n",
    "new_DEM_flooded_low = new_DEM-np.array(xr_slr_vlm_adjusted_year.sel(quantiles=np.min(quantiles)))/1000-e_array-float(storm_value)\n",
    "new_DEM_flooded_low = new_DEM_flooded_low\n",
    "flooded_low = new_DEM_flooded_low.where(new_DEM_flooded_low<0,np.nan)*0+1\n",
    "\n",
    "new_DEM_flooded_mid = new_DEM-np.array(xr_slr_vlm_adjusted_year.sel(quantiles=0.5))/1000-e_array-float(storm_value)\n",
    "new_DEM_flooded_mid = new_DEM_flooded_mid\n",
    "flooded_mid = new_DEM_flooded_mid.where(new_DEM_flooded_mid<0,np.nan)*0+1\n",
    "\n",
    "new_DEM_flooded_high = new_DEM-np.array(xr_slr_vlm_adjusted_year.sel(quantiles=np.max(quantiles)))/1000-e_array-float(storm_value)\n",
    "new_DEM_flooded_high = new_DEM_flooded_high\n",
    "flooded_high = new_DEM_flooded_high.where(new_DEM_flooded_high<0,np.nan)*0+1\n",
    "\n",
    "flooded = flooded_low.fillna(0)+flooded_mid.fillna(0)+flooded_high.fillna(0)\n",
    "flooded = flooded.where(flooded>0,np.nan)\n",
    "\n",
    "masked_flooded = np.ma.masked_invalid(flooded)\n",
    "masked_flooded = (np.max(masked_flooded)-masked_flooded)/(np.max(masked_flooded)-np.min(masked_flooded))\n",
    "masked_flooded = masked_flooded[::-1,:]\n",
    "\n",
    "masked_array_dict.update({\n",
    "    (year,scenario,e_scen,storm_rps):masked_flooded\n",
    "})\n",
    "\n",
    "flooded_dict.update({\n",
    "    (year,scenario,e_scen,storm_rps):flooded\n",
    "})\n",
    "\n",
    "masked_xarray.loc[{'stormsurge': storm_rps, 'earthquake': e_scen, 'years': year, 'file': scenario}] = masked_flooded\n",
    "flooded_xarray.loc[{'stormsurge': storm_rps, 'earthquake': e_scen, 'years': year, 'file': scenario}] = flooded"
   ]
  },
  {
   "cell_type": "markdown",
   "id": "d527395f-b514-4b90-924e-4afe969f6966",
   "metadata": {},
   "source": [
    "# Save to the mesh"
   ]
  },
  {
   "cell_type": "code",
   "execution_count": null,
   "id": "58f6424e-339a-4a1a-9db1-cffed951a2bd",
   "metadata": {},
   "outputs": [],
   "source": [
    "data_vars = {'mask': masked_xarray, 'data': flooded_xarray}\n",
    "# Create a Dataset from the dictionary\n",
    "xr_flooded = xr.Dataset(data_vars)"
   ]
  },
  {
   "cell_type": "code",
   "execution_count": null,
   "id": "db76e69b-1a8b-4ac3-977e-a2d2943480d6",
   "metadata": {},
   "outputs": [],
   "source": [
    "xr_flooded"
   ]
  },
  {
   "cell_type": "code",
   "execution_count": null,
   "id": "27224579-2623-400b-83b6-3dcb4ae5b816",
   "metadata": {},
   "outputs": [],
   "source": [
    "# datamesh.write_datasource(datasource_id=\"wellington_dynamic_shoreline_projections_mask\",\n",
    "#                           name=\"Wellington Casestudy Dynamic Shoreline Projections Mask\",\n",
    "#                           description=\"Wellington Casestudy Dynamic Shoreline Projections Mask\",\n",
    "#                           data=xr_flooded,\n",
    "#                           # coordinates={'lon':'longitude','lat':'latitude'},\n",
    "#                          tags=['demo', 'wellington','lower hutt'],\n",
    "#                          )"
   ]
  },
  {
   "cell_type": "markdown",
   "id": "a08a947e-9f80-4e14-9ef1-4bfb4ff1bb32",
   "metadata": {},
   "source": [
    "# Visualise"
   ]
  },
  {
   "cell_type": "code",
   "execution_count": null,
   "id": "d90d33e4-f1b4-4bb0-b8af-dd33f5307f73",
   "metadata": {},
   "outputs": [],
   "source": [
    "cmap = plt.cm.get_cmap('brg')\n",
    "\n",
    "wellington_coords = [-41.28664, 174.77557]\n",
    "zoom = 11\n",
    "\n",
    "def create_map(year,ssp, earthquake,storm_surge):\n",
    "    token = \"pk.eyJ1Ijoic2hhbm5vbi1iZW5ndHNvbiIsImEiOiJja3F1Y2Q0dHEwMzYwMm9wYmtzYzk2bDZuIn0.5jGMyEiJdmXs1HL7x3ThPw\" # your mapbox token\n",
    "    tileurl = 'https://api.mapbox.com/v4/mapbox.satellite/{z}/{x}/{y}@2x.png?access_token=' + str(token)\n",
    "    m = folium.Map(location=wellington_coords, zoom_start=zoom)\n",
    "    custom_tile_layer = folium.TileLayer(tiles=tileurl, name='Satellite',attr='Mapbox',overlay=False).add_to(m)\n",
    "\n",
    "    masked_flooded = masked_array_dict[(year,ssp,earthquake,storm_surge)]\n",
    "    flooded = flooded_dict[(year,ssp,earthquake,storm_surge)]\n",
    "\n",
    "    # print(year,ssp)\n",
    "    \n",
    "    folium.raster_layers.ImageOverlay(cmap(masked_flooded),\n",
    "                                      [[flooded.y.values.min(), flooded.x.values.min()],\n",
    "                                       [flooded.y.values.max(), flooded.x.values.max()]],opacity=.5).add_to(m)\n",
    "\n",
    "    return(m)\n",
    "    \n",
    "# Define dropdown options\n",
    "dropdown_options1 = ['ssp126','ssp126', 'ssp245','ssp370','ssp585']\n",
    "dropdown_options2 = years\n",
    "dropdown_options3 = list(earthquake_scens.keys())\n",
    "dropdown_options4 = list(storm_tide_rps_dict.keys())\n",
    "\n",
    "# Define callback function to update map when dropdown value changes\n",
    "def update_map(year, ssp, earthquake,storm_surge):\n",
    "    clear_output(wait=True)\n",
    "    try:\n",
    "        m = create_map(year, f'total_volc_noVLM{ssp}_medium_confidence_values.mat',earthquake,storm_surge)\n",
    "        display(m)\n",
    "    except Exception as e:\n",
    "        print(f\"Error occurred: {e}\")\n",
    "\n",
    "# Create interactive dropdowns\n",
    "interact(update_map, year=dropdown_options2, ssp=dropdown_options1,earthquake=dropdown_options3,storm_surge=dropdown_options4)\n"
   ]
  },
  {
   "cell_type": "code",
   "execution_count": null,
   "id": "a36b86d5-a5a8-4921-9832-94b017b0935e",
   "metadata": {},
   "outputs": [],
   "source": [
    "masked_flooded.shape"
   ]
  },
  {
   "cell_type": "code",
   "execution_count": null,
   "id": "e82a2d07-cfc5-462c-913f-6d680410cd2e",
   "metadata": {},
   "outputs": [],
   "source": [
    "array_10pc.shape"
   ]
  },
  {
   "cell_type": "code",
   "execution_count": null,
   "id": "ddb26460-db3c-4b3e-b06b-354300c9f916",
   "metadata": {},
   "outputs": [],
   "source": []
  },
  {
   "cell_type": "code",
   "execution_count": null,
   "id": "b5d1ee66-487d-4ece-91c2-e4489eadef95",
   "metadata": {},
   "outputs": [],
   "source": []
  }
 ],
 "metadata": {
  "kernelspec": {
   "display_name": "Python 3 (ipykernel)",
   "language": "python",
   "name": "python3"
  },
  "language_info": {
   "codemirror_mode": {
    "name": "ipython",
    "version": 3
   },
   "file_extension": ".py",
   "mimetype": "text/x-python",
   "name": "python",
   "nbconvert_exporter": "python",
   "pygments_lexer": "ipython3",
   "version": "3.12.2"
  }
 },
 "nbformat": 4,
 "nbformat_minor": 5
}
