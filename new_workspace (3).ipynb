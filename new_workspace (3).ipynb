{
 "cells": [
  {
   "cell_type": "code",
   "execution_count": null,
   "id": "14f5fc71",
   "metadata": {},
   "outputs": [],
   "source": [
    "#If you are working in a notebook or ipython environment, you may need to uncomment the line below to install the oceanum python library\n",
    "#!pip install oceanum"
   ]
  },
  {
   "cell_type": "code",
   "execution_count": null,
   "id": "2931aab9",
   "metadata": {},
   "outputs": [],
   "source": [
    "#Define your datamesh token in evironment variables as DATAMESH_TOKEN or insert into argument below.\n",
    "from oceanum.datamesh import Connector\n",
    "datamesh=Connector(token=None)"
   ]
  },
  {
   "cell_type": "code",
   "execution_count": null,
   "id": "24a031bb",
   "metadata": {},
   "outputs": [],
   "source": [
    "#Query request for datasource linz-layer-50661\n",
    "linz_layer_50661_query={\"datasource\":\"linz-layer-50661\",\"parameters\":{},\"description\":\"Coastline polyline (Hydro, 1:4k - 1:22k)\",\"variables\":[\"geometry\"],\"functions\":[],\"id\":\"e32ab7d5ae678a4446f50f5cdc542a67\"}\n",
    "linz_layer_50661=datamesh.query(linz_layer_50661_query)"
   ]
  },
  {
   "cell_type": "code",
   "execution_count": null,
   "id": "bd9ecbfa",
   "metadata": {},
   "outputs": [],
   "source": [
    "#Load datasource linz-wellington_2013-2014-dem_1m-2193\n",
    "linz_wellington_2013_2014_dem_1m_2193=datamesh.load_datasource('linz-wellington_2013-2014-dem_1m-2193')"
   ]
  },
  {
   "cell_type": "code",
   "execution_count": null,
   "id": "e7a5c33f",
   "metadata": {},
   "outputs": [],
   "source": []
  }
 ],
 "metadata": {
  "kernelspec": {
   "display_name": "Python 3 (ipykernel)",
   "language": "python",
   "name": "python3"
  },
  "language_info": {
   "codemirror_mode": {
    "name": "ipython",
    "version": 3
   },
   "file_extension": ".py",
   "mimetype": "text/x-python",
   "name": "python",
   "nbconvert_exporter": "python",
   "pygments_lexer": "ipython3",
   "version": "3.12.2"
  }
 },
 "nbformat": 4,
 "nbformat_minor": 5
}
