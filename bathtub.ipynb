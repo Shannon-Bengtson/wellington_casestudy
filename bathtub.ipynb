{
 "cells": [
  {
   "cell_type": "markdown",
   "id": "d5d158ac-fe7f-4dd0-a30e-cbc2b52a9bf5",
   "metadata": {},
   "source": [
    "Put on the family Centre "
   ]
  },
  {
   "cell_type": "markdown",
   "id": "8bff53cf-d2f9-4c5b-9d16-2d4c112ad6ca",
   "metadata": {},
   "source": [
    "Currently no requirement for it to be contingent"
   ]
  },
  {
   "cell_type": "markdown",
   "id": "c9e29665-8695-42fe-a28c-b199c23169c4",
   "metadata": {},
   "source": [
    "Test file for Wellington Dynamic DEM"
   ]
  },
  {
   "cell_type": "markdown",
   "id": "b69cf935-c7f5-46b0-85c4-edb95399aa57",
   "metadata": {},
   "source": [
    "# File Setup"
   ]
  },
  {
   "cell_type": "code",
   "execution_count": 1,
   "id": "97b0f0bf-7289-4287-88e0-b9db81bb5af6",
   "metadata": {},
   "outputs": [],
   "source": [
    "import numpy as np\n",
    "import pandas as pd\n",
    "import matplotlib.pyplot as plt\n",
    "import xarray as xr\n",
    "import cartopy\n",
    "import datetime\n",
    "import pyproj\n",
    "import rioxarray\n",
    "from scipy.interpolate import griddata\n",
    "import scipy as sp\n",
    "import folium\n",
    "import os\n",
    "import folium\n",
    "from ipywidgets import interact, Dropdown\n",
    "from IPython.display import display, clear_output"
   ]
  },
  {
   "cell_type": "code",
   "execution_count": 2,
   "id": "82a24c7b-fcea-44b3-915c-7c20d4416766",
   "metadata": {},
   "outputs": [],
   "source": [
    "df_shoreline = pd.read_csv('linzcoast 1.dat',header=None,delimiter=' ')"
   ]
  },
  {
   "cell_type": "code",
   "execution_count": 3,
   "id": "dd1356ea-5d05-45f7-aac3-05cf9c847b40",
   "metadata": {},
   "outputs": [],
   "source": [
    "df_shoreline.columns = ['lon','lat']"
   ]
  },
  {
   "cell_type": "code",
   "execution_count": 4,
   "id": "6d3d519d-7571-4085-9419-fb4ecec181ee",
   "metadata": {},
   "outputs": [],
   "source": [
    "df_shoreline.dropna(axis=0,inplace=True)"
   ]
  },
  {
   "cell_type": "code",
   "execution_count": 5,
   "id": "6d7112c0-b3b2-4ecd-886b-3d99053fd6ad",
   "metadata": {},
   "outputs": [],
   "source": [
    "# Define the current and target CRS using EPSG codes\n",
    "current_crs = pyproj.CRS(\"EPSG:2193\")  \n",
    "target_crs = pyproj.CRS(\"EPSG:4326\")\n",
    "\n",
    "transformer = pyproj.Transformer.from_crs(current_crs, target_crs, always_xy=True,allow_ballpark=False)\n",
    "\n",
    "# target_crs = pyproj.CRS(\"EPSG:4167\")\n",
    "# transformer_2 = pyproj.Transformer.from_crs(current_crs, target_crs, always_xy=True)"
   ]
  },
  {
   "cell_type": "markdown",
   "id": "7cc2c9db-b4e5-45f6-827f-320a79dbc921",
   "metadata": {},
   "source": [
    "# Storm Surge"
   ]
  },
  {
   "cell_type": "code",
   "execution_count": 6,
   "id": "ca2fa96b-58d5-4b4e-a549-b161525eb32e",
   "metadata": {},
   "outputs": [],
   "source": [
    "df_storm_surge = pd.read_csv('storm_surge.csv')"
   ]
  },
  {
   "cell_type": "code",
   "execution_count": 7,
   "id": "dae640c1-7063-408a-8527-31c70c0caaf9",
   "metadata": {},
   "outputs": [],
   "source": [
    "df_storm_surge['month'] = [x.split(' ')[0].split('/')[1] for x in df_storm_surge.datetime]\n",
    "df_storm_surge['year'] = [x.split(' ')[0].split('/')[-1] for x in df_storm_surge.datetime]"
   ]
  },
  {
   "cell_type": "code",
   "execution_count": 8,
   "id": "9e04010e-ad7d-40b0-9811-ef0bf8b5c0c1",
   "metadata": {},
   "outputs": [
    {
     "data": {
      "text/html": [
       "<div>\n",
       "<style scoped>\n",
       "    .dataframe tbody tr th:only-of-type {\n",
       "        vertical-align: middle;\n",
       "    }\n",
       "\n",
       "    .dataframe tbody tr th {\n",
       "        vertical-align: top;\n",
       "    }\n",
       "\n",
       "    .dataframe thead th {\n",
       "        text-align: right;\n",
       "    }\n",
       "</style>\n",
       "<table border=\"1\" class=\"dataframe\">\n",
       "  <thead>\n",
       "    <tr style=\"text-align: right;\">\n",
       "      <th></th>\n",
       "      <th>lat</th>\n",
       "      <th>lng</th>\n",
       "      <th>datetime</th>\n",
       "      <th>height</th>\n",
       "      <th>month</th>\n",
       "      <th>year</th>\n",
       "    </tr>\n",
       "  </thead>\n",
       "  <tbody>\n",
       "    <tr>\n",
       "      <th>0</th>\n",
       "      <td>-41.25</td>\n",
       "      <td>174.5</td>\n",
       "      <td>1/01/2010 12:00</td>\n",
       "      <td>-0.034448</td>\n",
       "      <td>01</td>\n",
       "      <td>2010</td>\n",
       "    </tr>\n",
       "    <tr>\n",
       "      <th>1</th>\n",
       "      <td>-41.25</td>\n",
       "      <td>174.5</td>\n",
       "      <td>2/01/2010 12:00</td>\n",
       "      <td>0.062858</td>\n",
       "      <td>01</td>\n",
       "      <td>2010</td>\n",
       "    </tr>\n",
       "    <tr>\n",
       "      <th>2</th>\n",
       "      <td>-41.25</td>\n",
       "      <td>174.5</td>\n",
       "      <td>3/01/2010 12:00</td>\n",
       "      <td>0.096683</td>\n",
       "      <td>01</td>\n",
       "      <td>2010</td>\n",
       "    </tr>\n",
       "    <tr>\n",
       "      <th>3</th>\n",
       "      <td>-41.25</td>\n",
       "      <td>174.5</td>\n",
       "      <td>4/01/2010 12:00</td>\n",
       "      <td>0.014322</td>\n",
       "      <td>01</td>\n",
       "      <td>2010</td>\n",
       "    </tr>\n",
       "    <tr>\n",
       "      <th>4</th>\n",
       "      <td>-41.25</td>\n",
       "      <td>174.5</td>\n",
       "      <td>5/01/2010 12:00</td>\n",
       "      <td>-0.034867</td>\n",
       "      <td>01</td>\n",
       "      <td>2010</td>\n",
       "    </tr>\n",
       "    <tr>\n",
       "      <th>...</th>\n",
       "      <td>...</td>\n",
       "      <td>...</td>\n",
       "      <td>...</td>\n",
       "      <td>...</td>\n",
       "      <td>...</td>\n",
       "      <td>...</td>\n",
       "    </tr>\n",
       "    <tr>\n",
       "      <th>131483</th>\n",
       "      <td>-41.50</td>\n",
       "      <td>175.0</td>\n",
       "      <td>27/12/2099 12:00</td>\n",
       "      <td>-0.013351</td>\n",
       "      <td>12</td>\n",
       "      <td>2099</td>\n",
       "    </tr>\n",
       "    <tr>\n",
       "      <th>131484</th>\n",
       "      <td>-41.50</td>\n",
       "      <td>175.0</td>\n",
       "      <td>28/12/2099 12:00</td>\n",
       "      <td>-0.026677</td>\n",
       "      <td>12</td>\n",
       "      <td>2099</td>\n",
       "    </tr>\n",
       "    <tr>\n",
       "      <th>131485</th>\n",
       "      <td>-41.50</td>\n",
       "      <td>175.0</td>\n",
       "      <td>29/12/2099 12:00</td>\n",
       "      <td>-0.008993</td>\n",
       "      <td>12</td>\n",
       "      <td>2099</td>\n",
       "    </tr>\n",
       "    <tr>\n",
       "      <th>131486</th>\n",
       "      <td>-41.50</td>\n",
       "      <td>175.0</td>\n",
       "      <td>30/12/2099 12:00</td>\n",
       "      <td>0.014627</td>\n",
       "      <td>12</td>\n",
       "      <td>2099</td>\n",
       "    </tr>\n",
       "    <tr>\n",
       "      <th>131487</th>\n",
       "      <td>-41.50</td>\n",
       "      <td>175.0</td>\n",
       "      <td>31/12/2099 12:00</td>\n",
       "      <td>0.024958</td>\n",
       "      <td>12</td>\n",
       "      <td>2099</td>\n",
       "    </tr>\n",
       "  </tbody>\n",
       "</table>\n",
       "<p>131488 rows × 6 columns</p>\n",
       "</div>"
      ],
      "text/plain": [
       "          lat    lng          datetime    height month  year\n",
       "0      -41.25  174.5   1/01/2010 12:00 -0.034448    01  2010\n",
       "1      -41.25  174.5   2/01/2010 12:00  0.062858    01  2010\n",
       "2      -41.25  174.5   3/01/2010 12:00  0.096683    01  2010\n",
       "3      -41.25  174.5   4/01/2010 12:00  0.014322    01  2010\n",
       "4      -41.25  174.5   5/01/2010 12:00 -0.034867    01  2010\n",
       "...       ...    ...               ...       ...   ...   ...\n",
       "131483 -41.50  175.0  27/12/2099 12:00 -0.013351    12  2099\n",
       "131484 -41.50  175.0  28/12/2099 12:00 -0.026677    12  2099\n",
       "131485 -41.50  175.0  29/12/2099 12:00 -0.008993    12  2099\n",
       "131486 -41.50  175.0  30/12/2099 12:00  0.014627    12  2099\n",
       "131487 -41.50  175.0  31/12/2099 12:00  0.024958    12  2099\n",
       "\n",
       "[131488 rows x 6 columns]"
      ]
     },
     "execution_count": 8,
     "metadata": {},
     "output_type": "execute_result"
    }
   ],
   "source": [
    "df_storm_surge"
   ]
  },
  {
   "cell_type": "code",
   "execution_count": 9,
   "id": "d50f1a84-71f8-4201-bd1b-c633fcd64123",
   "metadata": {},
   "outputs": [],
   "source": [
    "df_annual_storm_surge = df_storm_surge[['year','height']].groupby('year').mean()"
   ]
  },
  {
   "cell_type": "code",
   "execution_count": 10,
   "id": "3f263efa-8969-493d-bcc3-3462d523a155",
   "metadata": {},
   "outputs": [],
   "source": [
    "df_annual_storm_surge = df_annual_storm_surge.astype(float)\n",
    "df_annual_storm_surge.index = df_annual_storm_surge.index.astype(float)"
   ]
  },
  {
   "cell_type": "code",
   "execution_count": 11,
   "id": "41e3076d-76f2-4598-ba78-b5f807907f40",
   "metadata": {},
   "outputs": [
    {
     "data": {
      "text/plain": [
       "[<matplotlib.lines.Line2D at 0x1b5a42546b0>]"
      ]
     },
     "execution_count": 11,
     "metadata": {},
     "output_type": "execute_result"
    },
    {
     "data": {
      "image/png": "[encoded data removed]",
      "text/plain": [
       "<Figure size 640x480 with 1 Axes>"
      ]
     },
     "metadata": {},
     "output_type": "display_data"
    }
   ],
   "source": [
    "plt.plot(df_annual_storm_surge)"
   ]
  },
  {
   "cell_type": "markdown",
   "id": "0d0ed4bd-32fc-41c7-b2cd-d4affa77d867",
   "metadata": {},
   "source": [
    "# Load DEM"
   ]
  },
  {
   "cell_type": "code",
   "execution_count": 12,
   "id": "edf97ab3-9652-4b9e-9dd1-6d238f765bf6",
   "metadata": {},
   "outputs": [],
   "source": [
    "# df_vlms = pd.read_csv('our-changing-coast-insar_rates_searise.csv')\n",
    "xr_dem = rioxarray.open_rasterio('dem_8m_2012_wgs//92L94-92L34.tif')"
   ]
  },
  {
   "cell_type": "code",
   "execution_count": 13,
   "id": "1b4e71cc-b698-4d4a-bf90-5ee0ba326177",
   "metadata": {},
   "outputs": [],
   "source": [
    "dem_values = xr_dem.values\n",
    "fill_value = np.min(dem_values)\n",
    "\n",
    "dem_values[dem_values==fill_value] = np.nan\n",
    "xr_dem.values = dem_values"
   ]
  },
  {
   "cell_type": "code",
   "execution_count": 14,
   "id": "a19949e3-93e1-466c-b46e-efe9d60e7b84",
   "metadata": {},
   "outputs": [],
   "source": [
    "# Create a regular grid of coordinates\n",
    "res = 500 # low res to make the initial calcs fast\n",
    "x_regular = np.linspace(xr_dem['x'].min(), xr_dem['x'].max(), res)\n",
    "y_regular = np.linspace(xr_dem['y'].min(), xr_dem['y'].max(), res)\n",
    "\n",
    "# Interpolate data onto regular grid\n",
    "data_interpolated = xr_dem[0,:,:].interp(y=y_regular, x=x_regular)\n",
    "\n",
    "# Now you can use the interpolated data for transformation\n",
    "new_DEM = xr.DataArray(data_interpolated,coords={\"y\":y_regular,\"x\":x_regular},dims=[\"y\",\"x\"])"
   ]
  },
  {
   "cell_type": "markdown",
   "id": "63f2634e-35d7-4461-98ca-88de75d5c9dd",
   "metadata": {},
   "source": [
    "# Load VLMs"
   ]
  },
  {
   "cell_type": "code",
   "execution_count": 15,
   "id": "e57bae10-2f3e-45e5-9000-6fe3ff53eace",
   "metadata": {},
   "outputs": [],
   "source": [
    "df_vlms = pd.read_csv('Welly_VLM_2018-2023_100m.txt',delimiter='\\t')\n",
    "df_vlms = df_vlms.astype(float)"
   ]
  },
  {
   "cell_type": "code",
   "execution_count": 16,
   "id": "0652a5d9-aac2-43c9-a7b3-2199d495ac87",
   "metadata": {},
   "outputs": [],
   "source": [
    "df_vlms = df_vlms.rename(columns={'  0.000000':'lon','  0.000000.1':'lat'})"
   ]
  },
  {
   "cell_type": "code",
   "execution_count": 17,
   "id": "1d9f49a7-fc1c-464c-b52c-d6bf11109e9c",
   "metadata": {},
   "outputs": [],
   "source": [
    "df_vlms.set_index(['lat','lon'],inplace=True)\n",
    "df_vlms.columns = df_vlms.columns.astype(float)\n",
    "df_vlms = df_vlms.reset_index()"
   ]
  },
  {
   "cell_type": "code",
   "execution_count": 18,
   "id": "5e16f4a1-68ae-429b-a31e-ad90e3a2c6a0",
   "metadata": {},
   "outputs": [],
   "source": [
    "cols = [x for x in df_vlms.columns if x not in ['lon','lat']]"
   ]
  },
  {
   "cell_type": "code",
   "execution_count": 19,
   "id": "f7f24797-a413-437e-b81a-d90c594f140b",
   "metadata": {},
   "outputs": [],
   "source": [
    "x = new_DEM.x#np.linspace(df_vlms['lon'].min(), df_vlms['lon'].max(), 100)\n",
    "y = new_DEM.y#np.linspace(df_vlms['lat'].min(), df_vlms['lat'].max(), 100)\n",
    "\n",
    "X, Y = np.meshgrid(x, y)\n",
    "\n",
    "example_year = 2018\n",
    "Z = griddata((df_vlms['lon'], df_vlms['lat']), df_vlms[2018.0], (X, Y), method='linear')\n",
    "Z = np.nan_to_num(Z,nan=0)\n",
    "\n",
    "Z_nax = Z[:,:,np.newaxis]\n",
    "duplicated_arr = np.broadcast_to(Z_nax, (*Z.shape, len(cols)))\n",
    "duplicated_arr = duplicated_arr.copy()\n",
    "# new array has dims of lon,lat,time\n",
    "\n",
    "i = 0\n",
    "for year in cols:\n",
    "    duplicated_arr[:,:,i] = griddata((df_vlms['lon'], df_vlms['lat']), df_vlms[year], (X, Y), method='linear')\n",
    "    i+=1\n",
    "\n",
    "xr_vlms = xr.DataArray(duplicated_arr,coords={\"lon\":np.array(x),\"lat\":np.array(y),\"years\":cols},dims=['lon','lat','years'])\n",
    "\n",
    "xr_vlm_interp1 = xr_vlms.interpolate_na(dim='lat',method='linear')\n",
    "xr_vlm_interp2 = xr_vlms.interpolate_na(dim='lon',method='linear')\n",
    "\n",
    "xr_vlm_interp = (xr_vlm_interp1+xr_vlm_interp2)/2"
   ]
  },
  {
   "cell_type": "markdown",
   "id": "e8cbe595-f3b0-4496-b448-c3afed8a9649",
   "metadata": {},
   "source": [
    "# Load SLR Data"
   ]
  },
  {
   "cell_type": "code",
   "execution_count": 20,
   "id": "c9c9a41d-2b29-4c58-b807-f88e8cad4694",
   "metadata": {},
   "outputs": [],
   "source": [
    "xr_slr = sp.io.loadmat('../../Ian_relabelled_sites/total_volc_noVLMssp585_low_confidence_values.mat')\n",
    "\n",
    "lats = {x:y for x,y in zip(xr_slr['locations'].squeeze(),xr_slr['lat'].squeeze())}\n",
    "lons = {x:y for x,y in zip(xr_slr['locations'].squeeze(),xr_slr['lon'].squeeze())}\n",
    "\n",
    "x = new_DEM.x\n",
    "y = new_DEM.y\n",
    "\n",
    "years = np.unique(xr_slr['years'])\n",
    "quantiles = [0.17,0.5,0.83]\n",
    "\n",
    "X, Y = np.meshgrid(x, y)\n",
    "\n",
    "example_year = np.min(years)\n",
    "example_quantile = np.min(quantiles)"
   ]
  },
  {
   "cell_type": "code",
   "execution_count": 21,
   "id": "6f7c8535-249a-4100-873d-2a3fb6c763e2",
   "metadata": {},
   "outputs": [],
   "source": [
    "file_names = os.listdir(\"../../Ian_relabelled_sites/\")\n",
    "file_names = [x for x in file_names if ('total' in x)&('low' in x)&('_noVLM' in x)]"
   ]
  },
  {
   "cell_type": "code",
   "execution_count": 22,
   "id": "2ba56183-1675-4b37-b81b-07dfba9097f0",
   "metadata": {},
   "outputs": [],
   "source": [
    "duplicated_array = np.zeros((len(x),len(y),len(years),len(quantiles),len(file_names)))"
   ]
  },
  {
   "cell_type": "code",
   "execution_count": 23,
   "id": "75e3ef5d-4e0d-4eaa-ba3b-b7a535c9a4cb",
   "metadata": {},
   "outputs": [],
   "source": [
    "k = 0\n",
    "for file in file_names:\n",
    "    xr_slr = sp.io.loadmat(f'../../Ian_relabelled_sites/{file}')\n",
    "    \n",
    "    xr_slr = xr.DataArray(xr_slr['sea_level_change'],\n",
    "                          coords={'locations':xr_slr['locations'].squeeze(),'years':xr_slr['years'].squeeze(),'quantiles':xr_slr['quantiles'].squeeze()},\n",
    "                         dims=['locations','years','quantiles'])\n",
    "    \n",
    "    df_slr = xr_slr.sel(quantiles=quantiles).to_dataframe('slr')\n",
    "    \n",
    "    df_slr['Lat'] = [lats[x] for x in df_slr.reset_index()['locations']]\n",
    "    df_slr['Lon'] = [lons[x] for x in df_slr.reset_index()['locations']]\n",
    "    \n",
    "    # Focus on the wellington region\n",
    "    df_slr = df_slr[(df_slr.Lon>np.min(new_DEM.x.values))&(df_slr.Lat>np.min(new_DEM.y.values))&(df_slr.Lon<np.max(new_DEM.x.values))&(df_slr.Lat<np.max(new_DEM.y.values))]\n",
    "    \n",
    "    df_slr = df_slr.reset_index().drop('locations',axis=1)\n",
    "    \n",
    "    i = 0\n",
    "    for year in years:\n",
    "        j = 0\n",
    "        for quantile in quantiles:\n",
    "            df_slr_inst = df_slr[(df_slr.years==year)&(df_slr.quantiles==quantile)]\n",
    "            duplicated_array[:,:,i,j,k] = griddata((df_slr_inst['Lon'], df_slr_inst['Lat']), df_slr_inst['slr'], (X, Y), method='linear')\n",
    "            j+=1\n",
    "        i+=1\n",
    "    k+=1\n",
    "\n",
    "xr_slr = xr.DataArray(duplicated_array,coords={\"Lon\":np.array(x),\"Lat\":np.array(y),\"years\":years,\"quantiles\":quantiles,\"scenarios\":file_names},dims=['Lon','Lat','years','quantiles','scenarios'])\n",
    "\n",
    "filled_x = xr_slr.ffill('Lon').bfill('Lat')\n",
    "filled_y = xr_slr.ffill('Lat').bfill('Lon')\n",
    "xr_slr_filled = (filled_x+filled_y)/2\n",
    "    "
   ]
  },
  {
   "cell_type": "markdown",
   "id": "3d640391-c29e-4e39-817e-f13102a3613f",
   "metadata": {},
   "source": [
    "# Adding SLR and VLM together Data"
   ]
  },
  {
   "cell_type": "code",
   "execution_count": 24,
   "id": "9f62cce5-65ee-4a3a-ae6e-be423c309073",
   "metadata": {},
   "outputs": [],
   "source": [
    "# Find a mean of the rates and project forward\n",
    "xr_vlm_mean = xr_vlm_interp.mean(dim='years',skipna=True)\n",
    "xr_vlm_mean = xr_vlm_mean.expand_dims({'years':xr_slr.years.values})\n",
    "\n",
    "year_count = (xr_vlm_mean.years-np.min(xr_vlm_mean.years)) #should really start when the DEM was made for\n",
    "xr_vlm_forecast = xr_vlm_mean*np.array(year_count)[:,None,None]\n",
    "xr_vlm_forecast = xr_vlm_forecast.transpose('lon','lat','years')\n",
    "xr_slr_vlm_adjusted = xr_slr_filled-np.array(xr_vlm_forecast)[:,:,:,None,None]"
   ]
  },
  {
   "cell_type": "markdown",
   "id": "75234727-7c9c-4b43-af90-cf1b3987fe83",
   "metadata": {},
   "source": [
    "# Flooding the DEM"
   ]
  },
  {
   "cell_type": "code",
   "execution_count": 25,
   "id": "a284ecde-df67-4cc5-b296-b790d981f366",
   "metadata": {},
   "outputs": [],
   "source": [
    "new_DEM_mask = new_DEM.copy()\n",
    "new_DEM_mask = new_DEM_mask/new_DEM_mask\n",
    "new_DEM_mask = new_DEM_mask.fillna(123456789)#where(new_DEM_mask!=float('NaN'),123456789)\n",
    "new_DEM_mask = new_DEM_mask.where(new_DEM_mask!=1,np.nan)\n",
    "new_DEM_mask = new_DEM_mask.where(new_DEM_mask!=123456789,1)"
   ]
  },
  {
   "cell_type": "code",
   "execution_count": 26,
   "id": "b24636d0-bf40-44c7-af40-47cba83cb101",
   "metadata": {},
   "outputs": [],
   "source": [
    "masked_array_dict = {}\n",
    "flooded_dict = {}\n",
    "\n",
    "for year in years:\n",
    "    for scenario in file_names:\n",
    "        xr_slr_vlm_adjusted_year = xr_slr_vlm_adjusted.sel(years=year,scenarios=scenario)\n",
    "        \n",
    "        new_DEM_flooded_low = new_DEM-np.array(xr_slr_vlm_adjusted_year.sel(quantiles=np.min(quantiles)))/1000\n",
    "        new_DEM_flooded_low = new_DEM_flooded_low\n",
    "        flooded_low = new_DEM_flooded_low.where(new_DEM_flooded_low<0,np.nan)*0+1\n",
    "        \n",
    "        new_DEM_flooded_mid = new_DEM-np.array(xr_slr_vlm_adjusted_year.sel(quantiles=0.5))/1000\n",
    "        new_DEM_flooded_mid = new_DEM_flooded_mid\n",
    "        flooded_mid = new_DEM_flooded_mid.where(new_DEM_flooded_mid<0,np.nan)*0+1\n",
    "        \n",
    "        new_DEM_flooded_high = new_DEM-np.array(xr_slr_vlm_adjusted_year.sel(quantiles=np.max(quantiles)))/1000\n",
    "        new_DEM_flooded_high = new_DEM_flooded_high\n",
    "        flooded_high = new_DEM_flooded_high.where(new_DEM_flooded_high<0,np.nan)*0+1\n",
    "        \n",
    "        flooded = flooded_low.fillna(0)+flooded_mid.fillna(0)+flooded_high.fillna(0)\n",
    "        flooded = flooded.where(flooded>0,np.nan)\n",
    "        \n",
    "        masked_flooded = np.ma.masked_invalid(flooded)\n",
    "        masked_flooded = (np.max(masked_flooded)-masked_flooded)/(np.max(masked_flooded)-np.min(masked_flooded))\n",
    "        masked_flooded = masked_flooded[::-1,:]\n",
    "\n",
    "        masked_array_dict.update({\n",
    "            (year,scenario):masked_flooded\n",
    "        })\n",
    "\n",
    "        flooded_dict.update({\n",
    "            (year,scenario):flooded\n",
    "        })\n"
   ]
  },
  {
   "cell_type": "markdown",
   "id": "a08a947e-9f80-4e14-9ef1-4bfb4ff1bb32",
   "metadata": {},
   "source": [
    "# Visualise"
   ]
  },
  {
   "cell_type": "code",
   "execution_count": 27,
   "id": "d90d33e4-f1b4-4bb0-b8af-dd33f5307f73",
   "metadata": {},
   "outputs": [
    {
     "name": "stderr",
     "output_type": "stream",
     "text": [
      "C:\\Users\\shannonb\\AppData\\Local\\Temp\\ipykernel_6400\\1785278694.py:1: MatplotlibDeprecationWarning: The get_cmap function was deprecated in Matplotlib 3.7 and will be removed two minor releases later. Use ``matplotlib.colormaps[name]`` or ``matplotlib.colormaps.get_cmap(obj)`` instead.\n",
      "  cmap = plt.cm.get_cmap('brg')\n"
     ]
    },
    {
     "data": {
      "application/vnd.jupyter.widget-view+json": {
       "model_id": "5a2c0c025c244c9eac65081b5239480a",
       "version_major": 2,
       "version_minor": 0
      },
      "text/plain": [
       "interactive(children=(Dropdown(description='year', options=(2020, 2030, 2040, 2050, 2060, 2070, 2080, 2090, 21…"
      ]
     },
     "metadata": {},
     "output_type": "display_data"
    },
    {
     "data": {
      "text/plain": [
       "<function __main__.update_map(year, ssp)>"
      ]
     },
     "execution_count": 27,
     "metadata": {},
     "output_type": "execute_result"
    }
   ],
   "source": [
    "cmap = plt.cm.get_cmap('brg')\n",
    "\n",
    "wellington_coords = [-41.28664, 174.77557]\n",
    "zoom = 11\n",
    "\n",
    "def create_map(year,ssp):\n",
    "    token = \"pk.eyJ1Ijoic2hhbm5vbi1iZW5ndHNvbiIsImEiOiJja3F1Y2Q0dHEwMzYwMm9wYmtzYzk2bDZuIn0.5jGMyEiJdmXs1HL7x3ThPw\" # your mapbox token\n",
    "    tileurl = 'https://api.mapbox.com/v4/mapbox.satellite/{z}/{x}/{y}@2x.png?access_token=' + str(token)\n",
    "    m = folium.Map(location=wellington_coords, zoom_start=zoom)\n",
    "    custom_tile_layer = folium.TileLayer(tiles=tileurl, name='Satellite',attr='Mapbox',overlay=False).add_to(m)\n",
    "\n",
    "    masked_flooded = masked_array_dict[(year,ssp)]\n",
    "    flooded = flooded_dict[(year,ssp)]\n",
    "\n",
    "    # print(year,ssp)\n",
    "    \n",
    "    folium.raster_layers.ImageOverlay(cmap(masked_flooded),\n",
    "                                      [[flooded.y.values.min(), flooded.x.values.min()],\n",
    "                                       [flooded.y.values.max(), flooded.x.values.max()]],opacity=.5).add_to(m)\n",
    "\n",
    "    return(m)\n",
    "    \n",
    "# Define dropdown options\n",
    "dropdown_options1 = ['ssp126', 'ssp585']\n",
    "dropdown_options2 = years\n",
    "\n",
    "# Define callback function to update map when dropdown value changes\n",
    "def update_map(year, ssp):\n",
    "    clear_output(wait=True)\n",
    "    try:\n",
    "        m = create_map(year, f'total_volc_noVLM{ssp}_low_confidence_values.mat')\n",
    "        display(m)\n",
    "    except Exception as e:\n",
    "        print(f\"Error occurred: {e}\")\n",
    "\n",
    "# Create interactive dropdowns\n",
    "interact(update_map, year=dropdown_options2, ssp=dropdown_options1)\n"
   ]
  }
 ],
 "metadata": {
  "kernelspec": {
   "display_name": "Python 3 (ipykernel)",
   "language": "python",
   "name": "python3"
  },
  "language_info": {
   "codemirror_mode": {
    "name": "ipython",
    "version": 3
   },
   "file_extension": ".py",
   "mimetype": "text/x-python",
   "name": "python",
   "nbconvert_exporter": "python",
   "pygments_lexer": "ipython3",
   "version": "3.12.2"
  }
 },
 "nbformat": 4,
 "nbformat_minor": 5
}
