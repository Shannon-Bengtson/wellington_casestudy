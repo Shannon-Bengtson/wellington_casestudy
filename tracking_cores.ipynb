{
 "cells": [
  {
   "cell_type": "code",
   "execution_count": null,
   "id": "52151b30-2d52-48c6-bddb-f01d934fceef",
   "metadata": {},
   "outputs": [],
   "source": [
    "import psutil\n",
    "import matplotlib.pyplot as plt\n",
    "from IPython.display import display, clear_output\n",
    "import time\n",
    "\n",
    "def plot_cpu_usage():\n",
    "    plt.ion()\n",
    "    fig, ax = plt.subplots()\n",
    "    while True:\n",
    "        cpu_usage = psutil.cpu_percent(percpu=True)\n",
    "        ax.clear()\n",
    "        ax.bar(range(len(cpu_usage)), cpu_usage)\n",
    "        ax.set_ylim(0, 100)\n",
    "        ax.set_xlabel('CPU Core')\n",
    "        ax.set_ylabel('Usage (%)')\n",
    "        ax.set_title('CPU Usage Per Core')\n",
    "        clear_output(wait=True)\n",
    "        display(fig)\n",
    "        plt.pause(1)\n",
    "\n",
    "plot_cpu_usage()\n"
   ]
  },
  {
   "cell_type": "code",
   "execution_count": null,
   "id": "6e98eb6c-1a71-46e6-9c70-d67fd3073802",
   "metadata": {},
   "outputs": [],
   "source": []
  }
 ],
 "metadata": {
  "kernelspec": {
   "display_name": "Python 3 (ipykernel)",
   "language": "python",
   "name": "python3"
  },
  "language_info": {
   "codemirror_mode": {
    "name": "ipython",
    "version": 3
   },
   "file_extension": ".py",
   "mimetype": "text/x-python",
   "name": "python",
   "nbconvert_exporter": "python",
   "pygments_lexer": "ipython3",
   "version": "3.12.2"
  }
 },
 "nbformat": 4,
 "nbformat_minor": 5
}
